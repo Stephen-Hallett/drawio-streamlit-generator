{
 "cells": [
  {
   "cell_type": "code",
   "execution_count": 132,
   "metadata": {},
   "outputs": [],
   "source": [
    "from lxml import etree\n",
    "from pprint import pprint"
   ]
  },
  {
   "cell_type": "code",
   "execution_count": 140,
   "metadata": {},
   "outputs": [],
   "source": [
    "with open('template.xml', 'r') as f:\n",
    "    data = f.read()\n",
    "\n",
    "root = etree.fromstring(data)\n",
    "elements = root.xpath(\"//mxCell[string-length(@id) > 1 and string-length(@value) < 20]\")\n"
   ]
  },
  {
   "cell_type": "code",
   "execution_count": 145,
   "metadata": {},
   "outputs": [],
   "source": [
    "get_id = etree.XPath(\"@id\")\n",
    "get_value = etree.XPath(\"@value\")\n",
    "get_x = etree.XPath(\"mxGeometry/@x\")\n",
    "get_y = etree.XPath(\"mxGeometry/@y\")\n",
    "get_w = etree.XPath(\"mxGeometry/@width\")\n",
    "get_h = etree.XPath(\"mxGeometry/@height\")\n",
    "get_style = etree.XPath(\"@style\")\n",
    "\n",
    "def get_colour(el: etree.Element) -> str:\n",
    "    style = get_style(el)[0]\n",
    "    style_lst = style.split(\";\")\n",
    "    for item in style_lst:\n",
    "        if \"=\" in item:\n",
    "            key, val = item.split(\"=\")\n",
    "            if key == \"fillColor\":\n",
    "                return val\n",
    "        \n",
    "    return \"\""
   ]
  },
  {
   "cell_type": "code",
   "execution_count": 146,
   "metadata": {},
   "outputs": [],
   "source": [
    "def get_data(el: etree.Element) -> dict:\n",
    "    width = int(get_w(el)[0])\n",
    "    height = int(get_h(el)[0])\n",
    "    size = width*height\n",
    "\n",
    "    return {\n",
    "            \"id\": get_id(el)[0],\n",
    "            \"value\": get_value(el)[0].lower(),\n",
    "            \"x\": int(get_x(el)[0]),\n",
    "            \"y\": int(get_y(el)[0]),\n",
    "            \"w\": width,\n",
    "            \"h\": height,\n",
    "            \"size\": size,\n",
    "            \"colour\": get_colour(el),\n",
    "        }\n",
    "\n",
    "def rescale(lst: list, x: int, y: int, w: int, h: int) -> list:\n",
    "    for i in range(len(lst)):\n",
    "        lst[i]['x'] -= x\n",
    "        lst[i]['y'] -= y\n",
    "        lst[i]['w'] /= w\n",
    "        lst[i]['h'] /= h"
   ]
  },
  {
   "cell_type": "code",
   "execution_count": 147,
   "metadata": {},
   "outputs": [
    {
     "ename": "IndexError",
     "evalue": "list index out of range",
     "output_type": "error",
     "traceback": [
      "\u001b[1;31m---------------------------------------------------------------------------\u001b[0m",
      "\u001b[1;31mIndexError\u001b[0m                                Traceback (most recent call last)",
      "Cell \u001b[1;32mIn[147], line 1\u001b[0m\n\u001b[1;32m----> 1\u001b[0m element_data \u001b[38;5;241m=\u001b[39m [get_data(el) \u001b[38;5;28;01mfor\u001b[39;00m el \u001b[38;5;129;01min\u001b[39;00m elements]\n\u001b[0;32m      2\u001b[0m element_data \u001b[38;5;241m=\u001b[39m \u001b[38;5;28msorted\u001b[39m(element_data, key\u001b[38;5;241m=\u001b[39m\u001b[38;5;28;01mlambda\u001b[39;00m x: x[\u001b[38;5;124m\"\u001b[39m\u001b[38;5;124msize\u001b[39m\u001b[38;5;124m\"\u001b[39m], reverse\u001b[38;5;241m=\u001b[39m\u001b[38;5;28;01mTrue\u001b[39;00m)\n\u001b[0;32m      3\u001b[0m canvas \u001b[38;5;241m=\u001b[39m element_data[\u001b[38;5;241m0\u001b[39m]\n",
      "Cell \u001b[1;32mIn[147], line 1\u001b[0m, in \u001b[0;36m<listcomp>\u001b[1;34m(.0)\u001b[0m\n\u001b[1;32m----> 1\u001b[0m element_data \u001b[38;5;241m=\u001b[39m [\u001b[43mget_data\u001b[49m\u001b[43m(\u001b[49m\u001b[43mel\u001b[49m\u001b[43m)\u001b[49m \u001b[38;5;28;01mfor\u001b[39;00m el \u001b[38;5;129;01min\u001b[39;00m elements]\n\u001b[0;32m      2\u001b[0m element_data \u001b[38;5;241m=\u001b[39m \u001b[38;5;28msorted\u001b[39m(element_data, key\u001b[38;5;241m=\u001b[39m\u001b[38;5;28;01mlambda\u001b[39;00m x: x[\u001b[38;5;124m\"\u001b[39m\u001b[38;5;124msize\u001b[39m\u001b[38;5;124m\"\u001b[39m], reverse\u001b[38;5;241m=\u001b[39m\u001b[38;5;28;01mTrue\u001b[39;00m)\n\u001b[0;32m      3\u001b[0m canvas \u001b[38;5;241m=\u001b[39m element_data[\u001b[38;5;241m0\u001b[39m]\n",
      "Cell \u001b[1;32mIn[146], line 9\u001b[0m, in \u001b[0;36mget_data\u001b[1;34m(el)\u001b[0m\n\u001b[0;32m      3\u001b[0m height \u001b[38;5;241m=\u001b[39m \u001b[38;5;28mint\u001b[39m(get_h(el)[\u001b[38;5;241m0\u001b[39m])\n\u001b[0;32m      4\u001b[0m size \u001b[38;5;241m=\u001b[39m width\u001b[38;5;241m*\u001b[39mheight\n\u001b[0;32m      6\u001b[0m \u001b[38;5;28;01mreturn\u001b[39;00m {\n\u001b[0;32m      7\u001b[0m         \u001b[38;5;124m\"\u001b[39m\u001b[38;5;124mid\u001b[39m\u001b[38;5;124m\"\u001b[39m: get_id(el)[\u001b[38;5;241m0\u001b[39m],\n\u001b[0;32m      8\u001b[0m         \u001b[38;5;124m\"\u001b[39m\u001b[38;5;124mvalue\u001b[39m\u001b[38;5;124m\"\u001b[39m: get_value(el)[\u001b[38;5;241m0\u001b[39m]\u001b[38;5;241m.\u001b[39mlower(),\n\u001b[1;32m----> 9\u001b[0m         \u001b[38;5;124m\"\u001b[39m\u001b[38;5;124mx\u001b[39m\u001b[38;5;124m\"\u001b[39m: \u001b[38;5;28mint\u001b[39m(\u001b[43mget_x\u001b[49m\u001b[43m(\u001b[49m\u001b[43mel\u001b[49m\u001b[43m)\u001b[49m\u001b[43m[\u001b[49m\u001b[38;5;241;43m0\u001b[39;49m\u001b[43m]\u001b[49m),\n\u001b[0;32m     10\u001b[0m         \u001b[38;5;124m\"\u001b[39m\u001b[38;5;124my\u001b[39m\u001b[38;5;124m\"\u001b[39m: \u001b[38;5;28mint\u001b[39m(get_y(el)[\u001b[38;5;241m0\u001b[39m]),\n\u001b[0;32m     11\u001b[0m         \u001b[38;5;124m\"\u001b[39m\u001b[38;5;124mw\u001b[39m\u001b[38;5;124m\"\u001b[39m: width,\n\u001b[0;32m     12\u001b[0m         \u001b[38;5;124m\"\u001b[39m\u001b[38;5;124mh\u001b[39m\u001b[38;5;124m\"\u001b[39m: height,\n\u001b[0;32m     13\u001b[0m         \u001b[38;5;124m\"\u001b[39m\u001b[38;5;124msize\u001b[39m\u001b[38;5;124m\"\u001b[39m: size,\n\u001b[0;32m     14\u001b[0m         \u001b[38;5;124m\"\u001b[39m\u001b[38;5;124mcolour\u001b[39m\u001b[38;5;124m\"\u001b[39m: get_colour(el),\n\u001b[0;32m     15\u001b[0m     }\n",
      "\u001b[1;31mIndexError\u001b[0m: list index out of range"
     ]
    }
   ],
   "source": [
    "element_data = [get_data(el) for el in elements]\n",
    "element_data = sorted(element_data, key=lambda x: x[\"size\"], reverse=True)\n",
    "canvas = element_data[0]\n",
    "rescale(element_data, canvas['x'], canvas['y'], canvas['w'], canvas['h'])"
   ]
  },
  {
   "cell_type": "code",
   "execution_count": 126,
   "metadata": {},
   "outputs": [],
   "source": [
    "def contains(el1: dict,el2: dict) -> bool:\n",
    "    if el1['x'] <= el2['x'] and el1['y'] <= el2['y']:\n",
    "        if el2['x'] + el2['w'] <= el1['x'] + el1['w'] and el2['y'] + el2['h'] <= el1['y'] + el1['h']:\n",
    "            return True\n",
    "    return False\n"
   ]
  },
  {
   "cell_type": "code",
   "execution_count": 127,
   "metadata": {},
   "outputs": [],
   "source": [
    "i = len(element_data)-2\n",
    "while i > -1 and len(element_data) > 1:\n",
    "    element_data[i][\"children\"] =  []\n",
    "    for j in range(len(element_data)-1, i, -1):\n",
    "        if contains(element_data[i], element_data[j]):\n",
    "            element_data[i][\"children\"].append(element_data[j])\n",
    "            element_data.pop(j)\n",
    "    i -= 1\n"
   ]
  },
  {
   "cell_type": "code",
   "execution_count": 128,
   "metadata": {},
   "outputs": [],
   "source": [
    "element_tree = element_data[0]"
   ]
  },
  {
   "cell_type": "code",
   "execution_count": 129,
   "metadata": {},
   "outputs": [
    {
     "name": "stdout",
     "output_type": "stream",
     "text": [
      "{'children': [{'children': [],\n",
      "               'colour': '#ffe6cc',\n",
      "               'h': 1.0,\n",
      "               'id': 'GI5be8NEMBNBnBu12xkf-2',\n",
      "               'size': 33600,\n",
      "               'value': '',\n",
      "               'w': 0.23076923076923078,\n",
      "               'x': 0,\n",
      "               'y': 0}],\n",
      " 'colour': '#dae8fc',\n",
      " 'h': 1.0,\n",
      " 'id': 'GI5be8NEMBNBnBu12xkf-1',\n",
      " 'size': 145600,\n",
      " 'value': '',\n",
      " 'w': 1.0,\n",
      " 'x': 0,\n",
      " 'y': 0}\n"
     ]
    }
   ],
   "source": [
    "pprint(element_tree)"
   ]
  },
  {
   "cell_type": "code",
   "execution_count": 104,
   "metadata": {},
   "outputs": [],
   "source": [
    "import pandas as pd"
   ]
  },
  {
   "cell_type": "code",
   "execution_count": 105,
   "metadata": {},
   "outputs": [],
   "source": [
    "test = pd.DataFrame(element_tree)"
   ]
  },
  {
   "cell_type": "code",
   "execution_count": 107,
   "metadata": {},
   "outputs": [
    {
     "data": {
      "text/plain": [
       "{'id': 'GI5be8NEMBNBnBu12xkf-1',\n",
       " 'value': '',\n",
       " 'x': 120,\n",
       " 'y': 120,\n",
       " 'w': 520,\n",
       " 'h': 280,\n",
       " 'size': 145600,\n",
       " 'colour': '#dae8fc',\n",
       " 'children': [{'id': 'GI5be8NEMBNBnBu12xkf-3',\n",
       "   'value': 'title',\n",
       "   'x': 240,\n",
       "   'y': 120,\n",
       "   'w': 400,\n",
       "   'h': 60,\n",
       "   'size': 24000,\n",
       "   'colour': '#fff2cc',\n",
       "   'children': []},\n",
       "  {'id': 'GI5be8NEMBNBnBu12xkf-2',\n",
       "   'value': '',\n",
       "   'x': 120,\n",
       "   'y': 120,\n",
       "   'w': 120,\n",
       "   'h': 280,\n",
       "   'size': 33600,\n",
       "   'colour': '#ffe6cc',\n",
       "   'children': [{'id': 'GI5be8NEMBNBnBu12xkf-6',\n",
       "     'value': 'slider',\n",
       "     'x': 130,\n",
       "     'y': 250,\n",
       "     'w': 100,\n",
       "     'h': 20,\n",
       "     'size': 2000,\n",
       "     'colour': ''},\n",
       "    {'id': 'GI5be8NEMBNBnBu12xkf-5',\n",
       "     'value': 'slider',\n",
       "     'x': 130,\n",
       "     'y': 220,\n",
       "     'w': 100,\n",
       "     'h': 20,\n",
       "     'size': 2000,\n",
       "     'colour': '',\n",
       "     'children': []},\n",
       "    {'id': 'GI5be8NEMBNBnBu12xkf-4',\n",
       "     'value': 'slider',\n",
       "     'x': 130,\n",
       "     'y': 190,\n",
       "     'w': 100,\n",
       "     'h': 20,\n",
       "     'size': 2000,\n",
       "     'colour': '',\n",
       "     'children': []},\n",
       "    {'id': 'GI5be8NEMBNBnBu12xkf-17',\n",
       "     'value': 'img',\n",
       "     'x': 130,\n",
       "     'y': 130,\n",
       "     'w': 100,\n",
       "     'h': 40,\n",
       "     'size': 4000,\n",
       "     'colour': '',\n",
       "     'children': []}]},\n",
       "  {'id': 'GI5be8NEMBNBnBu12xkf-15',\n",
       "   'value': '',\n",
       "   'x': 240,\n",
       "   'y': 180,\n",
       "   'w': 400,\n",
       "   'h': 220,\n",
       "   'size': 88000,\n",
       "   'colour': '#d5e8d4',\n",
       "   'children': [{'id': 'GI5be8NEMBNBnBu12xkf-14',\n",
       "     'value': 'img',\n",
       "     'x': 440,\n",
       "     'y': 220,\n",
       "     'w': 60,\n",
       "     'h': 60,\n",
       "     'size': 3600,\n",
       "     'colour': '',\n",
       "     'children': []},\n",
       "    {'id': 'GI5be8NEMBNBnBu12xkf-13',\n",
       "     'value': 'img',\n",
       "     'x': 280,\n",
       "     'y': 220,\n",
       "     'w': 60,\n",
       "     'h': 60,\n",
       "     'size': 3600,\n",
       "     'colour': '',\n",
       "     'children': []},\n",
       "    {'id': 'GI5be8NEMBNBnBu12xkf-12',\n",
       "     'value': 'img',\n",
       "     'x': 280,\n",
       "     'y': 300,\n",
       "     'w': 60,\n",
       "     'h': 60,\n",
       "     'size': 3600,\n",
       "     'colour': '',\n",
       "     'children': []},\n",
       "    {'id': 'GI5be8NEMBNBnBu12xkf-11',\n",
       "     'value': 'img',\n",
       "     'x': 360,\n",
       "     'y': 300,\n",
       "     'w': 60,\n",
       "     'h': 60,\n",
       "     'size': 3600,\n",
       "     'colour': '',\n",
       "     'children': []},\n",
       "    {'id': 'GI5be8NEMBNBnBu12xkf-10',\n",
       "     'value': 'img',\n",
       "     'x': 440,\n",
       "     'y': 300,\n",
       "     'w': 60,\n",
       "     'h': 60,\n",
       "     'size': 3600,\n",
       "     'colour': '',\n",
       "     'children': []},\n",
       "    {'id': 'GI5be8NEMBNBnBu12xkf-9',\n",
       "     'value': 'img',\n",
       "     'x': 520,\n",
       "     'y': 300,\n",
       "     'w': 60,\n",
       "     'h': 60,\n",
       "     'size': 3600,\n",
       "     'colour': '',\n",
       "     'children': []},\n",
       "    {'id': 'GI5be8NEMBNBnBu12xkf-8',\n",
       "     'value': 'img',\n",
       "     'x': 520,\n",
       "     'y': 220,\n",
       "     'w': 60,\n",
       "     'h': 60,\n",
       "     'size': 3600,\n",
       "     'colour': '',\n",
       "     'children': []},\n",
       "    {'id': 'GI5be8NEMBNBnBu12xkf-7',\n",
       "     'value': 'img',\n",
       "     'x': 360,\n",
       "     'y': 220,\n",
       "     'w': 60,\n",
       "     'h': 60,\n",
       "     'size': 3600,\n",
       "     'colour': '',\n",
       "     'children': []}]}]}"
      ]
     },
     "execution_count": 107,
     "metadata": {},
     "output_type": "execute_result"
    }
   ],
   "source": [
    "element_tree"
   ]
  },
  {
   "cell_type": "code",
   "execution_count": 106,
   "metadata": {},
   "outputs": [
    {
     "data": {
      "text/html": [
       "<div>\n",
       "<style scoped>\n",
       "    .dataframe tbody tr th:only-of-type {\n",
       "        vertical-align: middle;\n",
       "    }\n",
       "\n",
       "    .dataframe tbody tr th {\n",
       "        vertical-align: top;\n",
       "    }\n",
       "\n",
       "    .dataframe thead th {\n",
       "        text-align: right;\n",
       "    }\n",
       "</style>\n",
       "<table border=\"1\" class=\"dataframe\">\n",
       "  <thead>\n",
       "    <tr style=\"text-align: right;\">\n",
       "      <th></th>\n",
       "      <th>id</th>\n",
       "      <th>value</th>\n",
       "      <th>x</th>\n",
       "      <th>y</th>\n",
       "      <th>w</th>\n",
       "      <th>h</th>\n",
       "      <th>size</th>\n",
       "      <th>colour</th>\n",
       "      <th>children</th>\n",
       "    </tr>\n",
       "  </thead>\n",
       "  <tbody>\n",
       "    <tr>\n",
       "      <th>0</th>\n",
       "      <td>GI5be8NEMBNBnBu12xkf-1</td>\n",
       "      <td></td>\n",
       "      <td>120</td>\n",
       "      <td>120</td>\n",
       "      <td>520</td>\n",
       "      <td>280</td>\n",
       "      <td>145600</td>\n",
       "      <td>#dae8fc</td>\n",
       "      <td>{'id': 'GI5be8NEMBNBnBu12xkf-3', 'value': 'tit...</td>\n",
       "    </tr>\n",
       "    <tr>\n",
       "      <th>1</th>\n",
       "      <td>GI5be8NEMBNBnBu12xkf-1</td>\n",
       "      <td></td>\n",
       "      <td>120</td>\n",
       "      <td>120</td>\n",
       "      <td>520</td>\n",
       "      <td>280</td>\n",
       "      <td>145600</td>\n",
       "      <td>#dae8fc</td>\n",
       "      <td>{'id': 'GI5be8NEMBNBnBu12xkf-2', 'value': '', ...</td>\n",
       "    </tr>\n",
       "    <tr>\n",
       "      <th>2</th>\n",
       "      <td>GI5be8NEMBNBnBu12xkf-1</td>\n",
       "      <td></td>\n",
       "      <td>120</td>\n",
       "      <td>120</td>\n",
       "      <td>520</td>\n",
       "      <td>280</td>\n",
       "      <td>145600</td>\n",
       "      <td>#dae8fc</td>\n",
       "      <td>{'id': 'GI5be8NEMBNBnBu12xkf-15', 'value': '',...</td>\n",
       "    </tr>\n",
       "  </tbody>\n",
       "</table>\n",
       "</div>"
      ],
      "text/plain": [
       "                       id value    x    y    w    h    size   colour  \\\n",
       "0  GI5be8NEMBNBnBu12xkf-1        120  120  520  280  145600  #dae8fc   \n",
       "1  GI5be8NEMBNBnBu12xkf-1        120  120  520  280  145600  #dae8fc   \n",
       "2  GI5be8NEMBNBnBu12xkf-1        120  120  520  280  145600  #dae8fc   \n",
       "\n",
       "                                            children  \n",
       "0  {'id': 'GI5be8NEMBNBnBu12xkf-3', 'value': 'tit...  \n",
       "1  {'id': 'GI5be8NEMBNBnBu12xkf-2', 'value': '', ...  \n",
       "2  {'id': 'GI5be8NEMBNBnBu12xkf-15', 'value': '',...  "
      ]
     },
     "execution_count": 106,
     "metadata": {},
     "output_type": "execute_result"
    }
   ],
   "source": [
    "test"
   ]
  }
 ],
 "metadata": {
  "kernelspec": {
   "display_name": ".venv",
   "language": "python",
   "name": "python3"
  },
  "language_info": {
   "codemirror_mode": {
    "name": "ipython",
    "version": 3
   },
   "file_extension": ".py",
   "mimetype": "text/x-python",
   "name": "python",
   "nbconvert_exporter": "python",
   "pygments_lexer": "ipython3",
   "version": "3.9.9"
  }
 },
 "nbformat": 4,
 "nbformat_minor": 2
}
